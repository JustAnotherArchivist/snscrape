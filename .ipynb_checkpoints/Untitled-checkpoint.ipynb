{
 "cells": [
  {
   "cell_type": "code",
   "execution_count": 3,
   "id": "36882798",
   "metadata": {},
   "outputs": [
    {
     "name": "stderr",
     "output_type": "stream",
     "text": [
      "C:\\Users\\asus\\AppData\\Local\\Temp/ipykernel_13408/602803442.py:11: DeprecatedFeatureWarning: content is deprecated, use rawContent instead\n",
      "  attributes_container.append([tweet.date, tweet.likeCount, tweet.sourceLabel, tweet.content])\n"
     ]
    }
   ],
   "source": [
    "import snscrape.modules.twitter as sntwitter\n",
    "import pandas as pd\n",
    "\n",
    "# Created a list to append all tweet attributes(data)\n",
    "attributes_container = []\n",
    "\n",
    "# Using TwitterSearchScraper to scrape data and append tweets to list\n",
    "for i,tweet in enumerate(sntwitter.TwitterUserScraper(\"rfloyd7\").get_items()):\n",
    "    if i>100:\n",
    "        break\n",
    "    attributes_container.append([tweet.date, tweet.likeCount, tweet.sourceLabel, tweet.content])\n",
    "    \n",
    "    \n",
    "# Creating a dataframe from the tweets list above \n",
    "tweets_df = pd.DataFrame(attributes_container, columns=[\"Date Created\", \"Number of Likes\", \"Source of Tweet\", \"Tweets\"])\n",
    "\n",
    "# tweets_df.to_csv('test.csv')\n"
   ]
  },
  {
   "cell_type": "code",
   "execution_count": 4,
   "id": "c2d6ae32",
   "metadata": {},
   "outputs": [
    {
     "data": {
      "text/html": [
       "<div>\n",
       "<style scoped>\n",
       "    .dataframe tbody tr th:only-of-type {\n",
       "        vertical-align: middle;\n",
       "    }\n",
       "\n",
       "    .dataframe tbody tr th {\n",
       "        vertical-align: top;\n",
       "    }\n",
       "\n",
       "    .dataframe thead th {\n",
       "        text-align: right;\n",
       "    }\n",
       "</style>\n",
       "<table border=\"1\" class=\"dataframe\">\n",
       "  <thead>\n",
       "    <tr style=\"text-align: right;\">\n",
       "      <th></th>\n",
       "      <th>Date Created</th>\n",
       "      <th>Number of Likes</th>\n",
       "      <th>Source of Tweet</th>\n",
       "      <th>Tweets</th>\n",
       "    </tr>\n",
       "  </thead>\n",
       "  <tbody>\n",
       "    <tr>\n",
       "      <th>0</th>\n",
       "      <td>2023-03-01 15:18:39+00:00</td>\n",
       "      <td>9</td>\n",
       "      <td>Twitter Web App</td>\n",
       "      <td>Dydd Gŵyl Dewi Hapus! Happy St. David's Day! h...</td>\n",
       "    </tr>\n",
       "    <tr>\n",
       "      <th>1</th>\n",
       "      <td>2023-03-01 15:02:00+00:00</td>\n",
       "      <td>0</td>\n",
       "      <td>Twitter Web App</td>\n",
       "      <td>@7PillarWisdom Pockets</td>\n",
       "    </tr>\n",
       "    <tr>\n",
       "      <th>2</th>\n",
       "      <td>2023-03-01 04:05:29+00:00</td>\n",
       "      <td>96</td>\n",
       "      <td>Twitter Web App</td>\n",
       "      <td>Despite the dire forecast we only got about fo...</td>\n",
       "    </tr>\n",
       "    <tr>\n",
       "      <th>3</th>\n",
       "      <td>2023-03-01 01:22:59+00:00</td>\n",
       "      <td>51</td>\n",
       "      <td>Twitter for iPhone</td>\n",
       "      <td>Shrimp Lo Mein. It’s what’s for dinner. Came o...</td>\n",
       "    </tr>\n",
       "    <tr>\n",
       "      <th>4</th>\n",
       "      <td>2023-02-28 04:15:53+00:00</td>\n",
       "      <td>85</td>\n",
       "      <td>Twitter Web App</td>\n",
       "      <td>Goodnight all. We enjoyed a beautiful sunny Be...</td>\n",
       "    </tr>\n",
       "  </tbody>\n",
       "</table>\n",
       "</div>"
      ],
      "text/plain": [
       "               Date Created  Number of Likes     Source of Tweet  \\\n",
       "0 2023-03-01 15:18:39+00:00                9     Twitter Web App   \n",
       "1 2023-03-01 15:02:00+00:00                0     Twitter Web App   \n",
       "2 2023-03-01 04:05:29+00:00               96     Twitter Web App   \n",
       "3 2023-03-01 01:22:59+00:00               51  Twitter for iPhone   \n",
       "4 2023-02-28 04:15:53+00:00               85     Twitter Web App   \n",
       "\n",
       "                                              Tweets  \n",
       "0  Dydd Gŵyl Dewi Hapus! Happy St. David's Day! h...  \n",
       "1                             @7PillarWisdom Pockets  \n",
       "2  Despite the dire forecast we only got about fo...  \n",
       "3  Shrimp Lo Mein. It’s what’s for dinner. Came o...  \n",
       "4  Goodnight all. We enjoyed a beautiful sunny Be...  "
      ]
     },
     "execution_count": 4,
     "metadata": {},
     "output_type": "execute_result"
    }
   ],
   "source": [
    "tweets_df.head()"
   ]
  },
  {
   "cell_type": "code",
   "execution_count": 7,
   "id": "3ff899ef",
   "metadata": {},
   "outputs": [
    {
     "data": {
      "text/plain": [
       "'Goodnight all. We enjoyed a beautiful sunny Berkshire day today before the big storm. Had a 4.5 mile hike at Balance Rock State Park. Getting some sleep now, praying for Ukraine. Praying for democracy everywhere. The Big Lie remains a lie. The Lord bless you and keep you!'"
      ]
     },
     "execution_count": 7,
     "metadata": {},
     "output_type": "execute_result"
    }
   ],
   "source": []
  },
  {
   "cell_type": "code",
   "execution_count": 9,
   "id": "9ff2da3a",
   "metadata": {},
   "outputs": [
    {
     "name": "stdout",
     "output_type": "stream",
     "text": [
      "https://twitter.com/JosshuaCalixto/status/1631163170906578945\n",
      "https://twitter.com/yasserrm/status/1631163164070146049\n",
      "https://twitter.com/jmwilt21/status/1631163163017199617\n",
      "https://twitter.com/JasonPerryelli1/status/1631163146013483009\n"
     ]
    }
   ],
   "source": [
    "# for i,tweet in enumerate(sntwitter.TwitterSearchScraper('from:tesla').get_items()): # search for user\n",
    "for i,tweet in enumerate(sntwitter.TwitterSearchScraper('tesla').get_items()): #tweet that have tesla word\n",
    "    if i>3:\n",
    "        break\n",
    "    print(tweet)"
   ]
  },
  {
   "cell_type": "code",
   "execution_count": 7,
   "id": "6d960448",
   "metadata": {},
   "outputs": [
    {
     "name": "stdout",
     "output_type": "stream",
     "text": [
      "https://twitter.com/Tesla/status/1631087437723172868\n",
      "https://twitter.com/Tesla/status/1631086498593349639\n",
      "https://twitter.com/Tesla/status/1631077736264482817\n",
      "https://twitter.com/Tesla/status/1631076053203517446\n"
     ]
    }
   ],
   "source": [
    "#search for word with date\n",
    "# for i,tweet in enumerate(sntwitter.TwitterSearchScraper('tesla until:2022-11-01').get_items()):\n",
    "for i,tweet in enumerate(sntwitter.TwitterSearchScraper('from:tesla since:2022-11-01').get_items()):\n",
    "    if i>3:\n",
    "        break\n",
    "    print(tweet)"
   ]
  },
  {
   "cell_type": "code",
   "execution_count": 23,
   "id": "5f17482a",
   "metadata": {},
   "outputs": [],
   "source": [
    "depression_group = pd.read_csv('D:\\Coding Projects\\snscrape-Depression-Tweet-Data-Collection\\depression_group.csv', encoding = \"ISO-8859-1\")"
   ]
  },
  {
   "cell_type": "code",
   "execution_count": 24,
   "id": "91490f13",
   "metadata": {},
   "outputs": [
    {
     "data": {
      "text/html": [
       "<div>\n",
       "<style scoped>\n",
       "    .dataframe tbody tr th:only-of-type {\n",
       "        vertical-align: middle;\n",
       "    }\n",
       "\n",
       "    .dataframe tbody tr th {\n",
       "        vertical-align: top;\n",
       "    }\n",
       "\n",
       "    .dataframe thead th {\n",
       "        text-align: right;\n",
       "    }\n",
       "</style>\n",
       "<table border=\"1\" class=\"dataframe\">\n",
       "  <thead>\n",
       "    <tr style=\"text-align: right;\">\n",
       "      <th></th>\n",
       "      <th>TwitterID</th>\n",
       "      <th>Username</th>\n",
       "      <th>Keyword</th>\n",
       "      <th>NumTweets</th>\n",
       "      <th>DateDepressionReported</th>\n",
       "      <th>Unnamed: 5</th>\n",
       "    </tr>\n",
       "  </thead>\n",
       "  <tbody>\n",
       "    <tr>\n",
       "      <th>0</th>\n",
       "      <td>@TebogoTestimony</td>\n",
       "      <td>Tebogo Testimony Rambau</td>\n",
       "      <td>diagnosed with depression</td>\n",
       "      <td>NaN</td>\n",
       "      <td>26-02-23</td>\n",
       "      <td>https://twitter.com/TH4NKU4THEV3NOM/status/162...</td>\n",
       "    </tr>\n",
       "    <tr>\n",
       "      <th>1</th>\n",
       "      <td>@mariaastardust7</td>\n",
       "      <td>Mara ??????????????</td>\n",
       "      <td>diagnosed with depression</td>\n",
       "      <td>NaN</td>\n",
       "      <td>26-02-23</td>\n",
       "      <td>https://twitter.com/mariaastardust7/status/162...</td>\n",
       "    </tr>\n",
       "    <tr>\n",
       "      <th>2</th>\n",
       "      <td>@TH4NKU4THEV3NOM</td>\n",
       "      <td>mono ?</td>\n",
       "      <td>diagnosed with depression</td>\n",
       "      <td>NaN</td>\n",
       "      <td>26-02-23</td>\n",
       "      <td>https://twitter.com/TH4NKU4THEV3NOM/status/162...</td>\n",
       "    </tr>\n",
       "    <tr>\n",
       "      <th>3</th>\n",
       "      <td>@LilDurst69</td>\n",
       "      <td>Le Champion Lil Durst</td>\n",
       "      <td>diagnosed with depression</td>\n",
       "      <td>NaN</td>\n",
       "      <td>27-02-23</td>\n",
       "      <td>https://twitter.com/LilDurst69/status/16299945...</td>\n",
       "    </tr>\n",
       "    <tr>\n",
       "      <th>4</th>\n",
       "      <td>@likaism</td>\n",
       "      <td>lika???? 3</td>\n",
       "      <td>diagnosed with depression</td>\n",
       "      <td>NaN</td>\n",
       "      <td>27-02-23</td>\n",
       "      <td>https://twitter.com/likaism/status/16299443757...</td>\n",
       "    </tr>\n",
       "  </tbody>\n",
       "</table>\n",
       "</div>"
      ],
      "text/plain": [
       "          TwitterID                 Username                    Keyword  \\\n",
       "0  @TebogoTestimony  Tebogo Testimony Rambau  diagnosed with depression   \n",
       "1  @mariaastardust7     Mara ??????????????  diagnosed with depression   \n",
       "2  @TH4NKU4THEV3NOM                   mono ?  diagnosed with depression   \n",
       "3       @LilDurst69    Le Champion Lil Durst  diagnosed with depression   \n",
       "4          @likaism               lika???? 3  diagnosed with depression   \n",
       "\n",
       "   NumTweets DateDepressionReported  \\\n",
       "0        NaN               26-02-23   \n",
       "1        NaN               26-02-23   \n",
       "2        NaN               26-02-23   \n",
       "3        NaN               27-02-23   \n",
       "4        NaN               27-02-23   \n",
       "\n",
       "                                          Unnamed: 5  \n",
       "0  https://twitter.com/TH4NKU4THEV3NOM/status/162...  \n",
       "1  https://twitter.com/mariaastardust7/status/162...  \n",
       "2  https://twitter.com/TH4NKU4THEV3NOM/status/162...  \n",
       "3  https://twitter.com/LilDurst69/status/16299945...  \n",
       "4  https://twitter.com/likaism/status/16299443757...  "
      ]
     },
     "execution_count": 24,
     "metadata": {},
     "output_type": "execute_result"
    }
   ],
   "source": [
    "depression_group .head()"
   ]
  },
  {
   "cell_type": "code",
   "execution_count": 25,
   "id": "933c310a",
   "metadata": {},
   "outputs": [
    {
     "data": {
      "text/plain": [
       "0     @TebogoTestimony\n",
       "1     @mariaastardust7\n",
       "2     @TH4NKU4THEV3NOM\n",
       "3          @LilDurst69\n",
       "4             @likaism\n",
       "            ...       \n",
       "95     @fatfemmenasian\n",
       "96          @jennjacat\n",
       "97        @HazelnutsKC\n",
       "98        @renegaegaee\n",
       "99            @rfloyd7\n",
       "Name: TwitterID, Length: 100, dtype: object"
      ]
     },
     "execution_count": 25,
     "metadata": {},
     "output_type": "execute_result"
    }
   ],
   "source": [
    "depression_group .TwitterID"
   ]
  },
  {
   "cell_type": "code",
   "execution_count": 50,
   "id": "c2a69279",
   "metadata": {},
   "outputs": [
    {
     "name": "stdout",
     "output_type": "stream",
     "text": [
      "['TebogoTestimony', 'mariaastardust7', 'TH4NKU4THEV3NOM', 'LilDurst69', 'likaism', 'life_iz_meh', 'Tsukomasi', 'cumdropbutton', 'Guroseraph', 'mayo_pdf', 'RikaTheWisewolf', 'atychi_phobia_', 'GODOFMYREALlTY', 'deleuzeanjoint', 'ItsRhily', 'loseiso', 'R0WLANDL0UD', 'Ms_Deathwish', 'livbility', 'mmariaspring', 'intaminsgirl', 'melyymnz', 'ManaketeQueen', 'ScorpioQueen_1', 'kelsi_bree', 'birdiefriendz', 'Ollie__Dee', 'TheSolarFae', 'mygthrill', 'aimseytwo', 'N1MonetDefender', 'justkelly_ok', 'ShathumX', 'gaialect', 'un1corned', 'skaterwiitches', 'KisimbaShantal', 'moonrice_', 'volki813', 'phillychssteaks', 'RFWproductions', 'Pandoras_Lunch', 'ginnyhogan_', 'vicegripx', 'oninoiwa', 'Anirosealine', 'Momolonde2133', 'Chumpychange1', 'daleethompson', 'nilamariee1', 'espressann', 'chaoticgirl777', 'ho_jo_7', 'hneylight', 'dannyjjj17', 'cometstardustxd', 'CaptainArrow23', 'DawnHulot', 'Momolonde2133', 'Chumpychange1', 'alreadydeadhere', 'barnie1Clique', 'Fawkesrinzler', 'beauty_wth_n', 'alaahegazy___', 'oldfshndanne', 'soultheories', 'papayahunnie', 'nerdypota', 'blattner1975', 'classyreinhart', 'Mollys_ADHD', 'jgoble75', 'MakeItRayne45', 'rooklyn', 'topropesquishy', 'MaxineMillimetr', 'BrandyBSBArmy', 'BubblegumAn4', 'CourtneyHrt', 'draggynamed', 'twdsfee', 'dramaticcore', 'IhureNamugongo', 'brie_kun', 'Lhexiiii', 'cowlonfull', 'ValravenApocIII', 'dotherawr_xd', 'Awakelol_', 'LamDeJon', 'badbakrii', 'chandramuki_', '0Idoh', 'K0BB0', 'fatfemmenasian', 'jennjacat', 'HazelnutsKC', 'renegaegaee', 'rfloyd7']\n",
      "['diagnosed with depression', 'diagnosed with depression', 'diagnosed with depression', 'diagnosed with depression', 'diagnosed with depression', 'diagnosed with depression', 'diagnosed with depression', 'diagnosed with depression', 'diagnosed with depression', 'diagnosed with depression', 'diagnosed with depression', 'diagnosed with depression', 'diagnosed with depression', 'diagnosed with depression', 'diagnosed with depression', 'diagnosed with depression', 'diagnosed with depression', 'diagnosed with depression', 'diagnosed with depression', 'diagnosed with depression', 'diagnosed with depression', 'diagnosed with depression', 'diagnosed with depression', 'diagnosed with depression', 'diagnosed with depression', 'diagnosed with depression', 'diagnosed with depression', 'diagnosed with depression', 'diagnosed with depression', 'diagnosed with depression', 'diagnosed with depression', 'diagnosed with depression', 'diagnosed with depression', 'diagnosed with depression', 'diagnosed with depression', 'diagnosed with depression', 'diagnosed with depression', 'diagnosed with depression', 'diagnosed with depression', 'diagnosed with depression', 'diagnosed with depression', 'i have depression', 'i have depression', 'i have depression', 'i have depression', 'i have depression', 'i have depression', 'i have depression', 'i have depression', 'i have depression', 'i have depression', 'i have depression', 'i have depression', 'i have depression', 'i have depression', 'i have depression', 'i have depression', 'i have depression', 'i have depression', 'i have depression', 'i am depressed', 'i am depressed', 'depression and anxiety', 'depression and anxiety', 'depression and anxiety', 'depression and anxiety', 'depression and anxiety', 'depression and anxiety', 'depression and anxiety', 'depression and anxiety', 'depression and anxiety', 'depression and anxiety', 'depression and anxiety', 'depression and anxiety', 'depression and anxiety', 'depression and anxiety', 'depression and anxiety', 'depression and anxiety', 'depression and anxiety', ' diagnosed for depression', ' diagnosed for depression', ' diagnosed for depression', ' diagnosed for depression', ' diagnosed for depression', ' diagnosed for depression', ' diagnosed for depression', ' diagnosed for depression', ' diagnosed for depression', ' diagnosed for depression', ' diagnosed for depression', ' diagnosed for depression', ' diagnosed for depression', 'clinical depression', 'clinical depression', 'clinical depression', 'clinical depression', 'clinical depression', 'clinical depression', 'clinical depression', 'clinical depression']\n",
      "['26-02-23', '26-02-23', '26-02-23', '27-02-23', '27-02-23', '27-02-23', '27-02-23', '23-02-23', '22-02-23', '26-02-23', '26-02-23', '25-02-22', '23-02-23', '24-02-23', '26-02-23', '23-02-23', '24-02-23', '23-02-23', '24-02-23', '23-02-23', '24-02-23', '24-02-23', '27-02-23', '28-02-23', '24-02-23', '23-02-23', '27-02-23', '23-02-23', '22-02-23', '26-02-23', '24-02-23', '23-02-23', '26-02-23', '21-02-23', '27-02-23', '26-02-23', '23-02-23', '27-02-23', '21-02-23', '24-02-23', '23-02-23', '19-02-23', '26-02-23', '27-02-23', '20-02-23', '28-02-23', '23-02-23', '27-02-23', '21-02-23', '27-02-23', '20-02-23', '27-02-23', '20-02-23', '20-02-23', '26-02-23', '20-02-23', '23-02-23', '20-02-23', '23-02-23', '27-02-23', '20-02-23', '22-02-23', '25-02-23', '20-02-23', '23-02-23', '27-02-23', '21-02-23', '28-02-23', '23-02-23', '23-02-23', '18-02-23', '22-02-23', '28-02-23', '27-02-23', '21-02-23', '22-02-23', '24-02-23', '24-02-23', '23-02-23', '05-12-21', '05-10-22', '30-09-21', '27-04-22', '11-03-22', '03-06-21', '03-08-21', '15-07-21', '26-09-22', '26-08-21', '05-02-22', '04-11-20', '12-01-22', '21-02-23', '19-02-23', '28-02-23', '19-02-23', '24-02-23', '26-02-23', '28-02-23', '17-02-23']\n"
     ]
    }
   ],
   "source": [
    "TwitterId = []\n",
    "TwitterKeyword = []\n",
    "TwitterDate = []\n",
    "\n",
    "for id in depression_group .TwitterID:\n",
    "    TwitterId.append(id[1:])\n",
    "\n",
    "for keyword in depression_group.Keyword:\n",
    "    TwitterKeyword.append(keyword)\n",
    "    \n",
    "for date in depression_group.DateDepressionReported:\n",
    "    TwitterDate.append(date)\n",
    "    \n",
    "print(TwitterId)\n",
    "print(TwitterKeyword)\n",
    "print(TwitterDate)"
   ]
  },
  {
   "cell_type": "code",
   "execution_count": 51,
   "id": "49608b33",
   "metadata": {},
   "outputs": [
    {
     "name": "stdout",
     "output_type": "stream",
     "text": [
      "26-02-23\n"
     ]
    }
   ],
   "source": [
    "print(TwitterDate[1])"
   ]
  },
  {
   "cell_type": "code",
   "execution_count": 65,
   "id": "0507a3e2",
   "metadata": {},
   "outputs": [
    {
     "name": "stdout",
     "output_type": "stream",
     "text": [
      "[{'TwitterID': 'TebogoTestimony', 'Username': 'Tebogo Testimony Rambau', 'Keyword': 'diagnosed with depression', 'NumTweets': 1424, 'DateDepressionReported': '26-02-23'}, {'TwitterID': 'mariaastardust7', 'Username': 'María ⚡🦖🏴\\u200d☠️🏳️\\u200d🌈', 'Keyword': 'diagnosed with depression', 'NumTweets': 6106, 'DateDepressionReported': '26-02-23'}, {'TwitterID': 'TH4NKU4THEV3NOM', 'Username': 'mono ⁷', 'Keyword': 'diagnosed with depression', 'NumTweets': 7489, 'DateDepressionReported': '26-02-23'}]\n"
     ]
    }
   ],
   "source": [
    "data = []\n",
    "row = []\n",
    "\n",
    "for index,id in enumerate(TwitterId):\n",
    "    countTweet = 0\n",
    "    \n",
    "    #search for user\n",
    "    scrapper = sntwitter.TwitterUserScraper(id)\n",
    "    \n",
    "    #search for user's data\n",
    "    for i,tweet in enumerate(scrapper.get_items()):\n",
    "        countTweet+=1\n",
    "#         if i == 1:\n",
    "#             print(tweet)\n",
    "#             print(tweet.user.username)\n",
    "#             print(tweet.user.displayname)\n",
    "#             print(TwitterKeyword[index])\n",
    "#             print(TwitterDate[index])\n",
    "    \n",
    "#     print(countTweet)\n",
    "        \n",
    "        \n",
    "#         countTweet+=1\n",
    "    \n",
    "    row.append({\"TwitterID\":tweet.user.username, \"Username\":tweet.user.displayname, \n",
    "                \"Keyword\":TwitterKeyword[index],\"NumTweets\":countTweet,\"DateDepressionReported\":TwitterDate[index]})\n",
    "#     data.append(row)\n",
    "    \n",
    "    if index == 2:\n",
    "        break\n",
    "        \n",
    "print(row)"
   ]
  },
  {
   "cell_type": "code",
   "execution_count": 68,
   "id": "509d14ff",
   "metadata": {},
   "outputs": [
    {
     "ename": "AttributeError",
     "evalue": "'dict' object has no attribute 'TwitterID'",
     "output_type": "error",
     "traceback": [
      "\u001b[1;31m---------------------------------------------------------------------------\u001b[0m",
      "\u001b[1;31mAttributeError\u001b[0m                            Traceback (most recent call last)",
      "\u001b[1;32m~\\AppData\\Local\\Temp/ipykernel_13408/3231747557.py\u001b[0m in \u001b[0;36m<module>\u001b[1;34m\u001b[0m\n\u001b[1;32m----> 1\u001b[1;33m \u001b[0mrow\u001b[0m\u001b[1;33m[\u001b[0m\u001b[1;36m1\u001b[0m\u001b[1;33m]\u001b[0m\u001b[1;33m.\u001b[0m\u001b[0mTwitterID\u001b[0m\u001b[1;33m\u001b[0m\u001b[1;33m\u001b[0m\u001b[0m\n\u001b[0m",
      "\u001b[1;31mAttributeError\u001b[0m: 'dict' object has no attribute 'TwitterID'"
     ]
    }
   ],
   "source": [
    "row[1].TwitterID"
   ]
  },
  {
   "cell_type": "code",
   "execution_count": 69,
   "id": "e9f300d3",
   "metadata": {},
   "outputs": [
    {
     "data": {
      "text/html": [
       "<div>\n",
       "<style scoped>\n",
       "    .dataframe tbody tr th:only-of-type {\n",
       "        vertical-align: middle;\n",
       "    }\n",
       "\n",
       "    .dataframe tbody tr th {\n",
       "        vertical-align: top;\n",
       "    }\n",
       "\n",
       "    .dataframe thead th {\n",
       "        text-align: right;\n",
       "    }\n",
       "</style>\n",
       "<table border=\"1\" class=\"dataframe\">\n",
       "  <thead>\n",
       "    <tr style=\"text-align: right;\">\n",
       "      <th></th>\n",
       "      <th>TwitterID</th>\n",
       "      <th>Username</th>\n",
       "      <th>Keyword</th>\n",
       "      <th>NumTweets</th>\n",
       "      <th>DateDepressionReported</th>\n",
       "    </tr>\n",
       "  </thead>\n",
       "  <tbody>\n",
       "    <tr>\n",
       "      <th>0</th>\n",
       "      <td>TebogoTestimony</td>\n",
       "      <td>Tebogo Testimony Rambau</td>\n",
       "      <td>diagnosed with depression</td>\n",
       "      <td>1424</td>\n",
       "      <td>26-02-23</td>\n",
       "    </tr>\n",
       "    <tr>\n",
       "      <th>1</th>\n",
       "      <td>mariaastardust7</td>\n",
       "      <td>María ⚡🦖🏴‍☠️🏳️‍🌈</td>\n",
       "      <td>diagnosed with depression</td>\n",
       "      <td>6106</td>\n",
       "      <td>26-02-23</td>\n",
       "    </tr>\n",
       "    <tr>\n",
       "      <th>2</th>\n",
       "      <td>TH4NKU4THEV3NOM</td>\n",
       "      <td>mono ⁷</td>\n",
       "      <td>diagnosed with depression</td>\n",
       "      <td>7489</td>\n",
       "      <td>26-02-23</td>\n",
       "    </tr>\n",
       "  </tbody>\n",
       "</table>\n",
       "</div>"
      ],
      "text/plain": [
       "         TwitterID                 Username                    Keyword  \\\n",
       "0  TebogoTestimony  Tebogo Testimony Rambau  diagnosed with depression   \n",
       "1  mariaastardust7         María ⚡🦖🏴‍☠️🏳️‍🌈  diagnosed with depression   \n",
       "2  TH4NKU4THEV3NOM                   mono ⁷  diagnosed with depression   \n",
       "\n",
       "   NumTweets DateDepressionReported  \n",
       "0       1424               26-02-23  \n",
       "1       6106               26-02-23  \n",
       "2       7489               26-02-23  "
      ]
     },
     "execution_count": 69,
     "metadata": {},
     "output_type": "execute_result"
    }
   ],
   "source": [
    "import json\n",
    "\n",
    "data = json.dumps(row)\n",
    "data_df = pd.read_json(data)\n",
    "data_df.head()"
   ]
  },
  {
   "cell_type": "code",
   "execution_count": null,
   "id": "51413e4f",
   "metadata": {},
   "outputs": [],
   "source": []
  }
 ],
 "metadata": {
  "kernelspec": {
   "display_name": "Python 3 (ipykernel)",
   "language": "python",
   "name": "python3"
  },
  "language_info": {
   "codemirror_mode": {
    "name": "ipython",
    "version": 3
   },
   "file_extension": ".py",
   "mimetype": "text/x-python",
   "name": "python",
   "nbconvert_exporter": "python",
   "pygments_lexer": "ipython3",
   "version": "3.9.7"
  }
 },
 "nbformat": 4,
 "nbformat_minor": 5
}
